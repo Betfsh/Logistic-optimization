{
 "cells": [
  {
   "cell_type": "code",
   "execution_count": 38,
   "id": "1ac7d104-00b4-436b-af9d-a1da42d02ea3",
   "metadata": {},
   "outputs": [],
   "source": [
    "import pandas as pd\n",
    "from datetime import datetime\n",
    "import holidays\n",
    "from geopy import distance\n",
    "from meteostat import Point, Daily\n",
    "import sys\n",
    "sys.path.append('../scripts/')"
   ]
  },
  {
   "cell_type": "code",
   "execution_count": 20,
   "id": "0e5d25b5-fa0b-41ff-b35e-23647fbfcbe9",
   "metadata": {},
   "outputs": [],
   "source": [
    "df=pd.read_csv('/home/b/Documents/week8/Logistic-Optimization/data/merged_data.csv',low_memory=False)"
   ]
  },
  {
   "cell_type": "code",
   "execution_count": 22,
   "id": "a91ad95c-f2c2-4d3f-aa6e-4e03b892c9e6",
   "metadata": {},
   "outputs": [],
   "source": [
    "from geopy.distance import geodesic\n",
    "sample = df.copy()\n",
    "sample[[\"Trip_Origin_x\", \"Trip_Origin_y\"]] = sample[\"Trip Origin\"].str.strip(r\"[()]\").str.split(\",\", expand=True).astype(float)"
   ]
  },
  {
   "cell_type": "code",
   "execution_count": 25,
   "id": "c5f015ad-b70d-45bf-8156-1fc6bdeaf907",
   "metadata": {},
   "outputs": [
    {
     "name": "stdout",
     "output_type": "stream",
     "text": [
      "Columns before dropping: Index(['Trip ID', 'Trip Origin', 'Trip Destination', 'Trip Start Time',\n",
      "       'Trip End Time', 'id', 'order_id', 'driver_id', 'driver_action', 'lat',\n",
      "       'lng', 'created_at', 'updated_at'],\n",
      "      dtype='object')\n"
     ]
    }
   ],
   "source": [
    "print(\"Columns before dropping:\", df.columns)"
   ]
  },
  {
   "cell_type": "code",
   "execution_count": 28,
   "id": "ad4c6f88-3c1c-4503-a522-f785c5c7afe7",
   "metadata": {},
   "outputs": [
    {
     "name": "stdout",
     "output_type": "stream",
     "text": [
      "<class 'pandas.core.frame.DataFrame'>\n",
      "RangeIndex: 1557740 entries, 0 to 1557739\n",
      "Data columns (total 12 columns):\n",
      " #   Column            Non-Null Count    Dtype         \n",
      "---  ------            --------------    -----         \n",
      " 0   Trip ID           536020 non-null   float64       \n",
      " 1   Trip Origin       536020 non-null   object        \n",
      " 2   Trip Destination  536020 non-null   object        \n",
      " 3   Trip Start Time   534369 non-null   datetime64[ns]\n",
      " 4   Trip End Time     536019 non-null   datetime64[ns]\n",
      " 5   order_id          1557740 non-null  int64         \n",
      " 6   driver_id         1557740 non-null  int64         \n",
      " 7   driver_action     1557740 non-null  object        \n",
      " 8   lat               1557740 non-null  float64       \n",
      " 9   lng               1557740 non-null  float64       \n",
      " 10  created_at        0 non-null        float64       \n",
      " 11  updated_at        0 non-null        float64       \n",
      "dtypes: datetime64[ns](2), float64(5), int64(2), object(3)\n",
      "memory usage: 142.6+ MB\n"
     ]
    }
   ],
   "source": [
    "df['Trip Start Time']= pd.to_datetime(df['Trip Start Time'])\n",
    "df['Trip End Time'] = pd.to_datetime(df['Trip End Time'])\n",
    "merged_df = df.drop([\"id\"], axis=1)\n",
    "merged_df.info()"
   ]
  },
  {
   "cell_type": "code",
   "execution_count": 29,
   "id": "a0f71cc6-0bb8-4daf-acc4-323e12c47aba",
   "metadata": {},
   "outputs": [
    {
     "data": {
      "text/html": [
       "<div>\n",
       "<style scoped>\n",
       "    .dataframe tbody tr th:only-of-type {\n",
       "        vertical-align: middle;\n",
       "    }\n",
       "\n",
       "    .dataframe tbody tr th {\n",
       "        vertical-align: top;\n",
       "    }\n",
       "\n",
       "    .dataframe thead th {\n",
       "        text-align: right;\n",
       "    }\n",
       "</style>\n",
       "<table border=\"1\" class=\"dataframe\">\n",
       "  <thead>\n",
       "    <tr style=\"text-align: right;\">\n",
       "      <th></th>\n",
       "      <th>Trip ID</th>\n",
       "      <th>Trip Origin</th>\n",
       "      <th>Trip Destination</th>\n",
       "      <th>Trip Start Time</th>\n",
       "      <th>Trip End Time</th>\n",
       "      <th>order_id</th>\n",
       "      <th>driver_id</th>\n",
       "      <th>driver_action</th>\n",
       "      <th>lat</th>\n",
       "      <th>lng</th>\n",
       "      <th>created_at</th>\n",
       "      <th>updated_at</th>\n",
       "    </tr>\n",
       "  </thead>\n",
       "  <tbody>\n",
       "    <tr>\n",
       "      <th>0</th>\n",
       "      <td>391996.0</td>\n",
       "      <td>6.508813001668548,3.37740316890347</td>\n",
       "      <td>6.650969799999999,3.3450307</td>\n",
       "      <td>2021-07-01 07:28:04</td>\n",
       "      <td>2021-07-01 07:29:37</td>\n",
       "      <td>392001</td>\n",
       "      <td>243828</td>\n",
       "      <td>accepted</td>\n",
       "      <td>6.602207</td>\n",
       "      <td>3.270465</td>\n",
       "      <td>NaN</td>\n",
       "      <td>NaN</td>\n",
       "    </tr>\n",
       "    <tr>\n",
       "      <th>1</th>\n",
       "      <td>391997.0</td>\n",
       "      <td>6.4316714,3.4555375</td>\n",
       "      <td>6.4280814653326,3.4721885847586</td>\n",
       "      <td>2021-07-01 06:38:04</td>\n",
       "      <td>2021-07-01 07:07:28</td>\n",
       "      <td>392001</td>\n",
       "      <td>243588</td>\n",
       "      <td>rejected</td>\n",
       "      <td>6.592097</td>\n",
       "      <td>3.287445</td>\n",
       "      <td>NaN</td>\n",
       "      <td>NaN</td>\n",
       "    </tr>\n",
       "    <tr>\n",
       "      <th>2</th>\n",
       "      <td>391998.0</td>\n",
       "      <td>6.631679399999999,3.3388976</td>\n",
       "      <td>6.508324099999999,3.3590397</td>\n",
       "      <td>2021-07-01 06:21:02</td>\n",
       "      <td>2021-07-01 07:02:23</td>\n",
       "      <td>392001</td>\n",
       "      <td>243830</td>\n",
       "      <td>rejected</td>\n",
       "      <td>6.596133</td>\n",
       "      <td>3.281784</td>\n",
       "      <td>NaN</td>\n",
       "      <td>NaN</td>\n",
       "    </tr>\n",
       "    <tr>\n",
       "      <th>3</th>\n",
       "      <td>391999.0</td>\n",
       "      <td>6.572757200000001,3.3677082</td>\n",
       "      <td>6.584881099999999,3.3614073</td>\n",
       "      <td>2021-07-01 07:16:07</td>\n",
       "      <td>2021-07-01 07:29:42</td>\n",
       "      <td>392001</td>\n",
       "      <td>243539</td>\n",
       "      <td>rejected</td>\n",
       "      <td>6.596142</td>\n",
       "      <td>3.280526</td>\n",
       "      <td>NaN</td>\n",
       "      <td>NaN</td>\n",
       "    </tr>\n",
       "    <tr>\n",
       "      <th>4</th>\n",
       "      <td>392001.0</td>\n",
       "      <td>6.6010417,3.2766339</td>\n",
       "      <td>6.4501069,3.3916154</td>\n",
       "      <td>2021-07-01 09:30:59</td>\n",
       "      <td>2021-07-01 09:34:36</td>\n",
       "      <td>392001</td>\n",
       "      <td>171653</td>\n",
       "      <td>rejected</td>\n",
       "      <td>6.609232</td>\n",
       "      <td>3.288800</td>\n",
       "      <td>NaN</td>\n",
       "      <td>NaN</td>\n",
       "    </tr>\n",
       "  </tbody>\n",
       "</table>\n",
       "</div>"
      ],
      "text/plain": [
       "    Trip ID                         Trip Origin  \\\n",
       "0  391996.0  6.508813001668548,3.37740316890347   \n",
       "1  391997.0                 6.4316714,3.4555375   \n",
       "2  391998.0         6.631679399999999,3.3388976   \n",
       "3  391999.0         6.572757200000001,3.3677082   \n",
       "4  392001.0                 6.6010417,3.2766339   \n",
       "\n",
       "                  Trip Destination     Trip Start Time       Trip End Time  \\\n",
       "0      6.650969799999999,3.3450307 2021-07-01 07:28:04 2021-07-01 07:29:37   \n",
       "1  6.4280814653326,3.4721885847586 2021-07-01 06:38:04 2021-07-01 07:07:28   \n",
       "2      6.508324099999999,3.3590397 2021-07-01 06:21:02 2021-07-01 07:02:23   \n",
       "3      6.584881099999999,3.3614073 2021-07-01 07:16:07 2021-07-01 07:29:42   \n",
       "4              6.4501069,3.3916154 2021-07-01 09:30:59 2021-07-01 09:34:36   \n",
       "\n",
       "   order_id  driver_id driver_action       lat       lng  created_at  \\\n",
       "0    392001     243828      accepted  6.602207  3.270465         NaN   \n",
       "1    392001     243588      rejected  6.592097  3.287445         NaN   \n",
       "2    392001     243830      rejected  6.596133  3.281784         NaN   \n",
       "3    392001     243539      rejected  6.596142  3.280526         NaN   \n",
       "4    392001     171653      rejected  6.609232  3.288800         NaN   \n",
       "\n",
       "   updated_at  \n",
       "0         NaN  \n",
       "1         NaN  \n",
       "2         NaN  \n",
       "3         NaN  \n",
       "4         NaN  "
      ]
     },
     "execution_count": 29,
     "metadata": {},
     "output_type": "execute_result"
    }
   ],
   "source": [
    "merged_df.head()"
   ]
  },
  {
   "cell_type": "markdown",
   "id": "e7d158c2-d797-4a22-9454-d4b6606897ee",
   "metadata": {},
   "source": [
    "### Data preparation"
   ]
  },
  {
   "cell_type": "code",
   "execution_count": 36,
   "id": "17607219-193f-40d5-b8c0-83b811b261e4",
   "metadata": {},
   "outputs": [],
   "source": [
    "# create an object of class for data preparation\n",
    "from data_preparation import DataPreparation\n",
    "prep_class = DataPreparation()"
   ]
  },
  {
   "cell_type": "code",
   "execution_count": null,
   "id": "6b6d52d8-2110-4223-bae7-582da66293af",
   "metadata": {},
   "outputs": [],
   "source": [
    "# adding hours column - Trip Start Time has some missing values\n",
    "merged_df['start_hour'] = merged_df['Trip Start Time'].apply(lambda row: prep_class.get_hour_of_day(row))\n",
    "merged_df['end_hour'] = merged_df['Trip End Time'].apply(lambda row: prep_class.get_hour_of_day(row))"
   ]
  },
  {
   "cell_type": "code",
   "execution_count": null,
   "id": "c0464d14-e09f-4c1e-93ac-e0868813b784",
   "metadata": {},
   "outputs": [],
   "source": [
    "# adding distance travelled column \n",
    "merged_df['trip_distance_km'] = merged_df[['Trip Origin','Trip Destination']].apply(lambda row: prep_class.get_trip_distance(row[0], row[1]),axis=1)"
   ]
  },
  {
   "cell_type": "code",
   "execution_count": 37,
   "id": "03bd5b3b-f4e5-42de-88b1-6c5b3fda9501",
   "metadata": {},
   "outputs": [],
   "source": [
    "# adding time taken to deliver order\n",
    "merged_df['trip_time'] = merged_df[['Trip Start Time','Trip End Time']].apply(lambda row: prep_class.get_trip_duration(row[0], row[1]),axis=1)"
   ]
  },
  {
   "cell_type": "code",
   "execution_count": 39,
   "id": "cd17d873-e7bf-4120-8c35-aa85d5a7569b",
   "metadata": {},
   "outputs": [],
   "source": [
    "y_min = merged_df['lat'].min()\n",
    "y_max = merged_df['lat'].max()\n",
    "x_min = merged_df['lng'].min()\n",
    "x_max = merged_df['lng'].max()\n",
    "# y = latitude, x = longitude"
   ]
  },
  {
   "cell_type": "code",
   "execution_count": 40,
   "id": "5ec8a76e-1deb-4810-bb67-86a4f0ac7949",
   "metadata": {},
   "outputs": [],
   "source": [
    "# Set time period i.e. from November, 2021 to May, 2022 : 187 days\n",
    "start_date = datetime(2021, 11, 13)\n",
    "end_date = datetime (2022, 5, 19)\n",
    "\n",
    "# using map bounds as coordinates i.e. y_min, y_max, x_min, x_max\n",
    "# y = latitude, x = longitude\n",
    "avg_lat = (y_min+y_max)/2\n",
    "avg_long = (x_min+x_max)/2\n",
    "altitude = 41 # from google\n",
    "\n",
    "# using nearest station instead of coordinates\n",
    "# from : https://meteostat.net/en/station/65201?t=2022-10-09/2022-10-16\n",
    "\n",
    "# Get daily data\n",
    "data = Daily(65201, start_date, end_date)\n",
    "data = data.fetch() # returns a dataframe\n",
    "\n",
    "# get dates from datetime\n",
    "merged_df['Start Date'] = merged_df['Trip Start Time'].apply(lambda x: x.date())\n",
    "\n",
    "rainy_days = data['prcp'].dropna().index # DatetimeIndex object\n",
    "\n",
    "# convert datetimeindex to list of datetime objects\n",
    "rainy_list = list(rainy_days.to_pydatetime())\n",
    "rainy_dates_list = [d.date() for d in rainy_list]\n",
    "     "
   ]
  },
  {
   "cell_type": "code",
   "execution_count": 41,
   "id": "e996e6bf-66d6-4149-aa73-88a20a43a943",
   "metadata": {},
   "outputs": [],
   "source": [
    "merged_df['rainy'] = merged_df['Start Date'].isin(rainy_dates_list)"
   ]
  },
  {
   "cell_type": "code",
   "execution_count": 42,
   "id": "3e68f653-c7c1-4551-98c1-a2d7c0abcdb5",
   "metadata": {},
   "outputs": [],
   "source": [
    "# set holidays\n",
    "nigeria_holidays = holidays.Nigeria\n",
    "holiday_dates = []\n",
    "for  k, v in nigeria_holidays(years = 2021).items():\n",
    "    holiday_date = datetime(k.year, k.month, k.day)\n",
    "    if(start_date<holiday_date<end_date):\n",
    "        holiday_dates.append(k)\n",
    "# 2022\n",
    "for  k, v in nigeria_holidays(years = 2022).items():\n",
    "    holiday_date = datetime(k.year, k.month, k.day)\n",
    "    if(start_date<holiday_date<end_date):\n",
    "        holiday_dates.append(k)"
   ]
  },
  {
   "cell_type": "code",
   "execution_count": 43,
   "id": "e754e2b3-bbc8-4bc7-a99e-feebe5ceee11",
   "metadata": {},
   "outputs": [
    {
     "data": {
      "text/plain": [
       "False    1551648\n",
       "True        6092\n",
       "Name: holiday, dtype: int64"
      ]
     },
     "execution_count": 43,
     "metadata": {},
     "output_type": "execute_result"
    }
   ],
   "source": [
    "# converting to dataframe\n",
    "merged_df['holiday'] = merged_df['Start Date'].isin(holiday_dates)\n",
    "merged_df['holiday'].value_counts()"
   ]
  },
  {
   "cell_type": "code",
   "execution_count": 47,
   "id": "2bc2965d-8d06-4076-bb7b-115a5d33330d",
   "metadata": {},
   "outputs": [],
   "source": [
    "from datetime import timedelta\n",
    "\n",
    "weekend_date = []\n",
    "def daterange(date1, date2):\n",
    "    for n in range(int ((date2 - date1).days)+1):\n",
    "        yield date1 + timedelta(n)\n",
    "\n",
    "weekends = [5,6] # 0 based index for days of week. 5 -Saturday, 6 = Sunday\n",
    "no_of_weekends = 0\n",
    "for dt in daterange(start_date, end_date):\n",
    "    if dt.weekday() in weekends:                \n",
    "        weekend_date.append(dt.strftime(\"%Y-%m-%d\"))"
   ]
  },
  {
   "cell_type": "code",
   "execution_count": 48,
   "id": "a5300889-fc89-4568-af21-9e5ddf56c3e1",
   "metadata": {},
   "outputs": [],
   "source": [
    "# convert to datetime\n",
    "weekend_dates = [datetime.strptime(date_string, \"%Y-%m-%d\") for date_string in weekend_date]\n",
    "weekend_dates_list = [d.date() for d in weekend_dates]"
   ]
  },
  {
   "cell_type": "code",
   "execution_count": 49,
   "id": "fd954e52-0cd0-46e1-880b-c705cb201a95",
   "metadata": {},
   "outputs": [
    {
     "data": {
      "text/plain": [
       "False    1528065\n",
       "True       29675\n",
       "Name: weekend, dtype: int64"
      ]
     },
     "execution_count": 49,
     "metadata": {},
     "output_type": "execute_result"
    }
   ],
   "source": [
    "merged_df['weekend'] = merged_df['Start Date'].isin(weekend_dates_list)\n",
    "merged_df['weekend'].value_counts()"
   ]
  },
  {
   "cell_type": "code",
   "execution_count": 50,
   "id": "25741f38-4610-4368-899b-7137febbd706",
   "metadata": {},
   "outputs": [
    {
     "name": "stdout",
     "output_type": "stream",
     "text": [
      "<class 'pandas.core.frame.DataFrame'>\n",
      "RangeIndex: 1557740 entries, 0 to 1557739\n",
      "Data columns (total 15 columns):\n",
      " #   Column            Non-Null Count    Dtype          \n",
      "---  ------            --------------    -----          \n",
      " 0   Trip ID           536020 non-null   float64        \n",
      " 1   Trip Origin       536020 non-null   object         \n",
      " 2   Trip Destination  536020 non-null   object         \n",
      " 3   Trip Start Time   534369 non-null   datetime64[ns] \n",
      " 4   Trip End Time     536019 non-null   datetime64[ns] \n",
      " 5   order_id          1557740 non-null  int64          \n",
      " 6   driver_id         1557740 non-null  int64          \n",
      " 7   driver_action     1557740 non-null  object         \n",
      " 8   lat               1557740 non-null  float64        \n",
      " 9   lng               1557740 non-null  float64        \n",
      " 10  created_at        0 non-null        float64        \n",
      " 11  updated_at        0 non-null        float64        \n",
      " 12  trip_time         534368 non-null   timedelta64[ns]\n",
      " 13  rainy             1557740 non-null  bool           \n",
      " 14  weekend           1557740 non-null  bool           \n",
      "dtypes: bool(2), datetime64[ns](2), float64(5), int64(2), object(3), timedelta64[ns](1)\n",
      "memory usage: 157.5+ MB\n"
     ]
    }
   ],
   "source": [
    "\n",
    "# removing holiday column because all values are false\n",
    "# removing start date column because the values were only used for calculating \n",
    "# weekend, rainy days and holidays\n",
    "\n",
    "merged_df.drop(['Start Date','holiday'], axis=1).info()"
   ]
  },
  {
   "cell_type": "code",
   "execution_count": 53,
   "id": "7202de72-1a26-4e7d-abf7-ffb6d9030127",
   "metadata": {},
   "outputs": [],
   "source": [
    "# saving as csv file\n",
    "merged_df.to_csv('data_feat_eng.csv')"
   ]
  },
  {
   "cell_type": "code",
   "execution_count": null,
   "id": "bc155e5c-54ec-4a4a-bdbd-414155c3bfda",
   "metadata": {},
   "outputs": [],
   "source": []
  }
 ],
 "metadata": {
  "kernelspec": {
   "display_name": "Python 3 (ipykernel)",
   "language": "python",
   "name": "python3"
  },
  "language_info": {
   "codemirror_mode": {
    "name": "ipython",
    "version": 3
   },
   "file_extension": ".py",
   "mimetype": "text/x-python",
   "name": "python",
   "nbconvert_exporter": "python",
   "pygments_lexer": "ipython3",
   "version": "3.8.0"
  }
 },
 "nbformat": 4,
 "nbformat_minor": 5
}
