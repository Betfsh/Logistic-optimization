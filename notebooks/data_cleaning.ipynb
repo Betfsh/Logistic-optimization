{
 "cells": [
  {
   "cell_type": "code",
   "execution_count": 2,
   "id": "973d74dd-5944-4b0f-8945-21376fae7d74",
   "metadata": {},
   "outputs": [],
   "source": [
    "import pandas as pd\n",
    "import matplotlib.pyplot as plt"
   ]
  },
  {
   "cell_type": "code",
   "execution_count": 17,
   "id": "4f26c34f-2c51-45e9-bc38-de316e834796",
   "metadata": {},
   "outputs": [
    {
     "name": "stdout",
     "output_type": "stream",
     "text": [
      "   Trip ID                         Trip Origin                 Trip Destination      Trip Start Time        Trip End Time\n",
      "0   391996  6.508813001668548,3.37740316890347      6.650969799999999,3.3450307  2021-07-01 07:28:04  2021-07-01 07:29:37\n",
      "1   391997                 6.4316714,3.4555375  6.4280814653326,3.4721885847586  2021-07-01 06:38:04  2021-07-01 07:07:28\n",
      "2   391998         6.631679399999999,3.3388976      6.508324099999999,3.3590397  2021-07-01 06:21:02  2021-07-01 07:02:23\n",
      "3   391999         6.572757200000001,3.3677082      6.584881099999999,3.3614073  2021-07-01 07:16:07  2021-07-01 07:29:42\n",
      "4   392001                 6.6010417,3.2766339              6.4501069,3.3916154  2021-07-01 09:30:59  2021-07-01 09:34:36\n"
     ]
    }
   ],
   "source": [
    "# Load the CSV file into DataFrame\n",
    "df1 = pd.read_csv('/home/b/Documents/week8/Logistic-Optimization/data/nb.csv')\n",
    "print(df1.head(5).to_string())"
   ]
  },
  {
   "cell_type": "code",
   "execution_count": 21,
   "id": "ea0513a8-0a0e-45c9-9cd4-34c32246c2f4",
   "metadata": {},
   "outputs": [
    {
     "name": "stdout",
     "output_type": "stream",
     "text": [
      "        Trip ID                  Trip Origin                     Trip Destination      Trip Start Time        Trip End Time\n",
      "536018  1637705          6.5869296,3.3632966          6.637906899999999,3.3339515  2021-12-30 20:48:50  2021-12-30 21:08:28\n",
      "536019  1637709  6.647209999999999,3.4851489  6.454915198823159,3.555839938365194  2021-12-30 20:55:38  2021-12-30 22:25:00\n"
     ]
    }
   ],
   "source": [
    "print(df1.tail(2).to_string())"
   ]
  },
  {
   "cell_type": "code",
   "execution_count": 16,
   "id": "cf8ffba0-4a52-45c0-bb4c-db1802b83484",
   "metadata": {},
   "outputs": [
    {
     "name": "stdout",
     "output_type": "stream",
     "text": [
      "   id  order_id  driver_id driver_action       lat       lng  created_at  updated_at\n",
      "0   1    392001     243828      accepted  6.602207  3.270465         NaN         NaN\n",
      "1   2    392001     243588      rejected  6.592097  3.287445         NaN         NaN\n",
      "2   3    392001     243830      rejected  6.596133  3.281784         NaN         NaN\n",
      "3   4    392001     243539      rejected  6.596142  3.280526         NaN         NaN\n",
      "4   5    392001     171653      rejected  6.609232  3.288800         NaN         NaN\n"
     ]
    }
   ],
   "source": [
    "# Load the CSV file into DataFrame\n",
    "df2 = pd.read_csv('/home/b/Documents/week8/Logistic-Optimization/data/driver_locations_during_request.csv')\n",
    "print(df2.head(5).to_string())"
   ]
  },
  {
   "cell_type": "code",
   "execution_count": 20,
   "id": "75b31565-9d25-4e45-958a-ecd6201c7366",
   "metadata": {},
   "outputs": [
    {
     "name": "stdout",
     "output_type": "stream",
     "text": [
      "              id  order_id  driver_id driver_action       lat       lng  created_at  updated_at\n",
      "1557738  1557739    517948     243774      rejected  6.469036  3.566877         NaN         NaN\n",
      "1557739  1557740    517948     244170      rejected  6.469390  3.572079         NaN         NaN\n"
     ]
    }
   ],
   "source": [
    "print(df2.tail(2).to_string())"
   ]
  },
  {
   "cell_type": "code",
   "execution_count": 38,
   "id": "67d1df27-b138-422e-aacc-3409f8518b97",
   "metadata": {},
   "outputs": [
    {
     "name": "stdout",
     "output_type": "stream",
     "text": [
      "    Trip ID                         Trip Origin                 Trip Destination      Trip Start Time        Trip End Time  id  order_id  driver_id driver_action       lat       lng  created_at  updated_at\n",
      "0  391996.0  6.508813001668548,3.37740316890347      6.650969799999999,3.3450307  2021-07-01 07:28:04  2021-07-01 07:29:37   1    392001     243828      accepted  6.602207  3.270465         NaN         NaN\n",
      "1  391997.0                 6.4316714,3.4555375  6.4280814653326,3.4721885847586  2021-07-01 06:38:04  2021-07-01 07:07:28   2    392001     243588      rejected  6.592097  3.287445         NaN         NaN\n",
      "2  391998.0         6.631679399999999,3.3388976      6.508324099999999,3.3590397  2021-07-01 06:21:02  2021-07-01 07:02:23   3    392001     243830      rejected  6.596133  3.281784         NaN         NaN\n",
      "3  391999.0         6.572757200000001,3.3677082      6.584881099999999,3.3614073  2021-07-01 07:16:07  2021-07-01 07:29:42   4    392001     243539      rejected  6.596142  3.280526         NaN         NaN\n",
      "4  392001.0                 6.6010417,3.2766339              6.4501069,3.3916154  2021-07-01 09:30:59  2021-07-01 09:34:36   5    392001     171653      rejected  6.609232  3.288800         NaN         NaN\n"
     ]
    }
   ],
   "source": [
    "# Concatenate DataFrames row-wise\n",
    "merged_df = pd.concat([df1, df2], axis=1)\n",
    "merged_df.to_csv('merged_data.csv', index=False)\n",
    "print(merged_df.head(5).to_string())"
   ]
  },
  {
   "cell_type": "code",
   "execution_count": 39,
   "id": "fef74af2-a994-4d91-85fc-891a863c0d3a",
   "metadata": {},
   "outputs": [
    {
     "name": "stdout",
     "output_type": "stream",
     "text": [
      "         Trip ID Trip Origin Trip Destination Trip Start Time Trip End Time       id  order_id  driver_id driver_action       lat       lng  created_at  updated_at\n",
      "1557735      NaN         NaN              NaN             NaN           NaN  1557736    517948     243774      rejected  6.469036  3.566877         NaN         NaN\n",
      "1557736      NaN         NaN              NaN             NaN           NaN  1557737    517948     245447      rejected  6.425431  3.527358         NaN         NaN\n",
      "1557737      NaN         NaN              NaN             NaN           NaN  1557738    517948     239866      rejected  6.440013  3.525378         NaN         NaN\n",
      "1557738      NaN         NaN              NaN             NaN           NaN  1557739    517948     243774      rejected  6.469036  3.566877         NaN         NaN\n",
      "1557739      NaN         NaN              NaN             NaN           NaN  1557740    517948     244170      rejected  6.469390  3.572079         NaN         NaN\n"
     ]
    }
   ],
   "source": [
    "print(merged_df.tail(5).to_string())"
   ]
  },
  {
   "cell_type": "code",
   "execution_count": 40,
   "id": "ad497043-2b9f-4f7d-bc6e-5d8d136189e2",
   "metadata": {},
   "outputs": [
    {
     "name": "stdout",
     "output_type": "stream",
     "text": [
      "Missing values in each column:\n",
      "Trip ID             1021720\n",
      "Trip Origin         1021720\n",
      "Trip Destination    1021720\n",
      "Trip Start Time     1023371\n",
      "Trip End Time       1021721\n",
      "id                        0\n",
      "order_id                  0\n",
      "driver_id                 0\n",
      "driver_action             0\n",
      "lat                       0\n",
      "lng                       0\n",
      "created_at          1557740\n",
      "updated_at          1557740\n",
      "dtype: int64\n"
     ]
    }
   ],
   "source": [
    "missing_values = merged_df.isna().sum()\n",
    "print(\"Missing values in each column:\")\n",
    "print(missing_values)"
   ]
  },
  {
   "cell_type": "code",
   "execution_count": 37,
   "id": "055d8000-c2dd-4868-91ec-7477cd2cb804",
   "metadata": {},
   "outputs": [
    {
     "name": "stdout",
     "output_type": "stream",
     "text": [
      "\n",
      "Total missing values in the DataFrame: 8225732\n"
     ]
    }
   ],
   "source": [
    "total_missing = merged_df.isna().sum().sum()\n",
    "print(\"\\nTotal missing values in the DataFrame:\", total_missing)"
   ]
  },
  {
   "cell_type": "markdown",
   "id": "23dd330c-0180-4050-be15-df002df25e8b",
   "metadata": {},
   "source": [
    "#### Converting to datetime"
   ]
  },
  {
   "cell_type": "code",
   "execution_count": 41,
   "id": "3e2947c6-f19d-48b8-9391-a8ff863ac801",
   "metadata": {},
   "outputs": [],
   "source": [
    "merged_df['Trip Start Time']= pd.to_datetime(merged_df['Trip Start Time'])\n",
    "merged_df['Trip End Time'] = pd.to_datetime(merged_df['Trip End Time'])"
   ]
  },
  {
   "cell_type": "code",
   "execution_count": 42,
   "id": "a26a972a-674e-475a-acfb-b699edcd250c",
   "metadata": {},
   "outputs": [
    {
     "name": "stdout",
     "output_type": "stream",
     "text": [
      "<class 'pandas.core.frame.DataFrame'>\n",
      "RangeIndex: 1557740 entries, 0 to 1557739\n",
      "Data columns (total 13 columns):\n",
      " #   Column            Non-Null Count    Dtype         \n",
      "---  ------            --------------    -----         \n",
      " 0   Trip ID           536020 non-null   float64       \n",
      " 1   Trip Origin       536020 non-null   object        \n",
      " 2   Trip Destination  536020 non-null   object        \n",
      " 3   Trip Start Time   534369 non-null   datetime64[ns]\n",
      " 4   Trip End Time     536019 non-null   datetime64[ns]\n",
      " 5   id                1557740 non-null  int64         \n",
      " 6   order_id          1557740 non-null  int64         \n",
      " 7   driver_id         1557740 non-null  int64         \n",
      " 8   driver_action     1557740 non-null  object        \n",
      " 9   lat               1557740 non-null  float64       \n",
      " 10  lng               1557740 non-null  float64       \n",
      " 11  created_at        0 non-null        float64       \n",
      " 12  updated_at        0 non-null        float64       \n",
      "dtypes: datetime64[ns](2), float64(5), int64(3), object(3)\n",
      "memory usage: 154.5+ MB\n"
     ]
    }
   ],
   "source": [
    "merged_df.info()"
   ]
  },
  {
   "cell_type": "markdown",
   "id": "dbfc9c2d-b87b-4796-84ab-25d17bd0555e",
   "metadata": {},
   "source": [
    "#### Univariate analysis"
   ]
  },
  {
   "cell_type": "code",
   "execution_count": 46,
   "id": "29e4bd7c-1427-428c-831d-d9ab0424b29b",
   "metadata": {},
   "outputs": [
    {
     "data": {
      "text/html": [
       "<div>\n",
       "<style scoped>\n",
       "    .dataframe tbody tr th:only-of-type {\n",
       "        vertical-align: middle;\n",
       "    }\n",
       "\n",
       "    .dataframe tbody tr th {\n",
       "        vertical-align: top;\n",
       "    }\n",
       "\n",
       "    .dataframe thead th {\n",
       "        text-align: right;\n",
       "    }\n",
       "</style>\n",
       "<table border=\"1\" class=\"dataframe\">\n",
       "  <thead>\n",
       "    <tr style=\"text-align: right;\">\n",
       "      <th></th>\n",
       "      <th>Trip ID</th>\n",
       "      <th>Trip Start Time</th>\n",
       "      <th>Trip End Time</th>\n",
       "      <th>id</th>\n",
       "      <th>order_id</th>\n",
       "      <th>driver_id</th>\n",
       "      <th>lat</th>\n",
       "      <th>lng</th>\n",
       "      <th>created_at</th>\n",
       "      <th>updated_at</th>\n",
       "    </tr>\n",
       "  </thead>\n",
       "  <tbody>\n",
       "    <tr>\n",
       "      <th>count</th>\n",
       "      <td>5.360200e+05</td>\n",
       "      <td>534369</td>\n",
       "      <td>536019</td>\n",
       "      <td>1.557740e+06</td>\n",
       "      <td>1.557740e+06</td>\n",
       "      <td>1.557740e+06</td>\n",
       "      <td>1.557740e+06</td>\n",
       "      <td>1.557740e+06</td>\n",
       "      <td>0.0</td>\n",
       "      <td>0.0</td>\n",
       "    </tr>\n",
       "    <tr>\n",
       "      <th>mean</th>\n",
       "      <td>9.910221e+05</td>\n",
       "      <td>2021-10-02 10:24:45.446032896</td>\n",
       "      <td>2021-10-02 15:06:34.897927424</td>\n",
       "      <td>7.788705e+05</td>\n",
       "      <td>4.191833e+05</td>\n",
       "      <td>2.341505e+05</td>\n",
       "      <td>6.536031e+00</td>\n",
       "      <td>3.378877e+00</td>\n",
       "      <td>NaN</td>\n",
       "      <td>NaN</td>\n",
       "    </tr>\n",
       "    <tr>\n",
       "      <th>min</th>\n",
       "      <td>3.919960e+05</td>\n",
       "      <td>2021-07-01 06:21:02</td>\n",
       "      <td>2021-07-01 07:02:23</td>\n",
       "      <td>1.000000e+00</td>\n",
       "      <td>3.920010e+05</td>\n",
       "      <td>1.219810e+05</td>\n",
       "      <td>6.409333e+00</td>\n",
       "      <td>3.076561e+00</td>\n",
       "      <td>NaN</td>\n",
       "      <td>NaN</td>\n",
       "    </tr>\n",
       "    <tr>\n",
       "      <th>25%</th>\n",
       "      <td>6.935610e+05</td>\n",
       "      <td>2021-08-18 13:53:25</td>\n",
       "      <td>2021-08-18 15:36:08.500000</td>\n",
       "      <td>3.894358e+05</td>\n",
       "      <td>4.067650e+05</td>\n",
       "      <td>2.429970e+05</td>\n",
       "      <td>6.498694e+00</td>\n",
       "      <td>3.348810e+00</td>\n",
       "      <td>NaN</td>\n",
       "      <td>NaN</td>\n",
       "    </tr>\n",
       "    <tr>\n",
       "      <th>50%</th>\n",
       "      <td>9.910085e+05</td>\n",
       "      <td>2021-10-05 11:27:22</td>\n",
       "      <td>2021-10-05 14:22:56</td>\n",
       "      <td>7.788705e+05</td>\n",
       "      <td>4.216870e+05</td>\n",
       "      <td>2.435890e+05</td>\n",
       "      <td>6.544247e+00</td>\n",
       "      <td>3.363504e+00</td>\n",
       "      <td>NaN</td>\n",
       "      <td>NaN</td>\n",
       "    </tr>\n",
       "    <tr>\n",
       "      <th>75%</th>\n",
       "      <td>1.281570e+06</td>\n",
       "      <td>2021-11-16 18:32:00</td>\n",
       "      <td>2021-11-17 11:59:15.500000</td>\n",
       "      <td>1.168305e+06</td>\n",
       "      <td>4.293130e+05</td>\n",
       "      <td>2.440560e+05</td>\n",
       "      <td>6.593276e+00</td>\n",
       "      <td>3.385177e+00</td>\n",
       "      <td>NaN</td>\n",
       "      <td>NaN</td>\n",
       "    </tr>\n",
       "    <tr>\n",
       "      <th>max</th>\n",
       "      <td>1.637709e+06</td>\n",
       "      <td>2022-06-13 10:04:28</td>\n",
       "      <td>2022-06-13 10:42:15</td>\n",
       "      <td>1.557740e+06</td>\n",
       "      <td>5.179480e+05</td>\n",
       "      <td>2.478770e+05</td>\n",
       "      <td>7.702536e+00</td>\n",
       "      <td>8.515414e+00</td>\n",
       "      <td>NaN</td>\n",
       "      <td>NaN</td>\n",
       "    </tr>\n",
       "    <tr>\n",
       "      <th>std</th>\n",
       "      <td>3.456364e+05</td>\n",
       "      <td>NaN</td>\n",
       "      <td>NaN</td>\n",
       "      <td>4.496809e+05</td>\n",
       "      <td>1.444531e+04</td>\n",
       "      <td>2.270475e+04</td>\n",
       "      <td>5.998150e-02</td>\n",
       "      <td>5.333432e-02</td>\n",
       "      <td>NaN</td>\n",
       "      <td>NaN</td>\n",
       "    </tr>\n",
       "  </tbody>\n",
       "</table>\n",
       "</div>"
      ],
      "text/plain": [
       "            Trip ID                Trip Start Time  \\\n",
       "count  5.360200e+05                         534369   \n",
       "mean   9.910221e+05  2021-10-02 10:24:45.446032896   \n",
       "min    3.919960e+05            2021-07-01 06:21:02   \n",
       "25%    6.935610e+05            2021-08-18 13:53:25   \n",
       "50%    9.910085e+05            2021-10-05 11:27:22   \n",
       "75%    1.281570e+06            2021-11-16 18:32:00   \n",
       "max    1.637709e+06            2022-06-13 10:04:28   \n",
       "std    3.456364e+05                            NaN   \n",
       "\n",
       "                       Trip End Time            id      order_id  \\\n",
       "count                         536019  1.557740e+06  1.557740e+06   \n",
       "mean   2021-10-02 15:06:34.897927424  7.788705e+05  4.191833e+05   \n",
       "min              2021-07-01 07:02:23  1.000000e+00  3.920010e+05   \n",
       "25%       2021-08-18 15:36:08.500000  3.894358e+05  4.067650e+05   \n",
       "50%              2021-10-05 14:22:56  7.788705e+05  4.216870e+05   \n",
       "75%       2021-11-17 11:59:15.500000  1.168305e+06  4.293130e+05   \n",
       "max              2022-06-13 10:42:15  1.557740e+06  5.179480e+05   \n",
       "std                              NaN  4.496809e+05  1.444531e+04   \n",
       "\n",
       "          driver_id           lat           lng  created_at  updated_at  \n",
       "count  1.557740e+06  1.557740e+06  1.557740e+06         0.0         0.0  \n",
       "mean   2.341505e+05  6.536031e+00  3.378877e+00         NaN         NaN  \n",
       "min    1.219810e+05  6.409333e+00  3.076561e+00         NaN         NaN  \n",
       "25%    2.429970e+05  6.498694e+00  3.348810e+00         NaN         NaN  \n",
       "50%    2.435890e+05  6.544247e+00  3.363504e+00         NaN         NaN  \n",
       "75%    2.440560e+05  6.593276e+00  3.385177e+00         NaN         NaN  \n",
       "max    2.478770e+05  7.702536e+00  8.515414e+00         NaN         NaN  \n",
       "std    2.270475e+04  5.998150e-02  5.333432e-02         NaN         NaN  "
      ]
     },
     "execution_count": 46,
     "metadata": {},
     "output_type": "execute_result"
    }
   ],
   "source": [
    "merged_df.describe(datetime_is_numeric=True)"
   ]
  },
  {
   "cell_type": "code",
   "execution_count": 44,
   "id": "55152435-984e-4ecf-a7b1-f86fb2f0c88e",
   "metadata": {},
   "outputs": [
    {
     "data": {
      "text/html": [
       "<div>\n",
       "<style scoped>\n",
       "    .dataframe tbody tr th:only-of-type {\n",
       "        vertical-align: middle;\n",
       "    }\n",
       "\n",
       "    .dataframe tbody tr th {\n",
       "        vertical-align: top;\n",
       "    }\n",
       "\n",
       "    .dataframe thead th {\n",
       "        text-align: right;\n",
       "    }\n",
       "</style>\n",
       "<table border=\"1\" class=\"dataframe\">\n",
       "  <thead>\n",
       "    <tr style=\"text-align: right;\">\n",
       "      <th></th>\n",
       "      <th>Trip Origin</th>\n",
       "      <th>Trip Destination</th>\n",
       "      <th>driver_action</th>\n",
       "    </tr>\n",
       "  </thead>\n",
       "  <tbody>\n",
       "    <tr>\n",
       "      <th>count</th>\n",
       "      <td>536020</td>\n",
       "      <td>536020</td>\n",
       "      <td>1557740</td>\n",
       "    </tr>\n",
       "    <tr>\n",
       "      <th>unique</th>\n",
       "      <td>112142</td>\n",
       "      <td>147520</td>\n",
       "      <td>2</td>\n",
       "    </tr>\n",
       "    <tr>\n",
       "      <th>top</th>\n",
       "      <td>6.6137933,3.357997</td>\n",
       "      <td>6.4567308,3.5309404</td>\n",
       "      <td>rejected</td>\n",
       "    </tr>\n",
       "    <tr>\n",
       "      <th>freq</th>\n",
       "      <td>888</td>\n",
       "      <td>844</td>\n",
       "      <td>1531837</td>\n",
       "    </tr>\n",
       "  </tbody>\n",
       "</table>\n",
       "</div>"
      ],
      "text/plain": [
       "               Trip Origin     Trip Destination driver_action\n",
       "count               536020               536020       1557740\n",
       "unique              112142               147520             2\n",
       "top     6.6137933,3.357997  6.4567308,3.5309404      rejected\n",
       "freq                   888                  844       1531837"
      ]
     },
     "execution_count": 44,
     "metadata": {},
     "output_type": "execute_result"
    }
   ],
   "source": [
    "# for non-numeric columns\n",
    "merged_df.select_dtypes(exclude=['float','int', 'datetime']).describe(datetime_is_numeric=False)"
   ]
  },
  {
   "cell_type": "markdown",
   "id": "fe5b38a3-feee-4004-9553-585deafbc296",
   "metadata": {},
   "source": [
    "#### Multivariate analysis"
   ]
  },
  {
   "cell_type": "code",
   "execution_count": 47,
   "id": "13ca0f57-4070-459b-8209-6e03a9fcc2f9",
   "metadata": {},
   "outputs": [
    {
     "name": "stderr",
     "output_type": "stream",
     "text": [
      "/tmp/ipykernel_90048/4191659586.py:1: FutureWarning: The default value of numeric_only in DataFrame.corr is deprecated. In a future version, it will default to False. Select only valid columns or specify the value of numeric_only to silence this warning.\n",
      "  merged_df.corr()\n"
     ]
    },
    {
     "data": {
      "text/html": [
       "<div>\n",
       "<style scoped>\n",
       "    .dataframe tbody tr th:only-of-type {\n",
       "        vertical-align: middle;\n",
       "    }\n",
       "\n",
       "    .dataframe tbody tr th {\n",
       "        vertical-align: top;\n",
       "    }\n",
       "\n",
       "    .dataframe thead th {\n",
       "        text-align: right;\n",
       "    }\n",
       "</style>\n",
       "<table border=\"1\" class=\"dataframe\">\n",
       "  <thead>\n",
       "    <tr style=\"text-align: right;\">\n",
       "      <th></th>\n",
       "      <th>Trip ID</th>\n",
       "      <th>id</th>\n",
       "      <th>order_id</th>\n",
       "      <th>driver_id</th>\n",
       "      <th>lat</th>\n",
       "      <th>lng</th>\n",
       "      <th>created_at</th>\n",
       "      <th>updated_at</th>\n",
       "    </tr>\n",
       "  </thead>\n",
       "  <tbody>\n",
       "    <tr>\n",
       "      <th>Trip ID</th>\n",
       "      <td>1.000000</td>\n",
       "      <td>0.999583</td>\n",
       "      <td>0.999537</td>\n",
       "      <td>-0.050615</td>\n",
       "      <td>-0.008649</td>\n",
       "      <td>0.021318</td>\n",
       "      <td>NaN</td>\n",
       "      <td>NaN</td>\n",
       "    </tr>\n",
       "    <tr>\n",
       "      <th>id</th>\n",
       "      <td>0.999583</td>\n",
       "      <td>1.000000</td>\n",
       "      <td>0.990965</td>\n",
       "      <td>0.026861</td>\n",
       "      <td>-0.017755</td>\n",
       "      <td>0.046669</td>\n",
       "      <td>NaN</td>\n",
       "      <td>NaN</td>\n",
       "    </tr>\n",
       "    <tr>\n",
       "      <th>order_id</th>\n",
       "      <td>0.999537</td>\n",
       "      <td>0.990965</td>\n",
       "      <td>1.000000</td>\n",
       "      <td>0.023262</td>\n",
       "      <td>-0.019077</td>\n",
       "      <td>0.047058</td>\n",
       "      <td>NaN</td>\n",
       "      <td>NaN</td>\n",
       "    </tr>\n",
       "    <tr>\n",
       "      <th>driver_id</th>\n",
       "      <td>-0.050615</td>\n",
       "      <td>0.026861</td>\n",
       "      <td>0.023262</td>\n",
       "      <td>1.000000</td>\n",
       "      <td>-0.038278</td>\n",
       "      <td>0.054652</td>\n",
       "      <td>NaN</td>\n",
       "      <td>NaN</td>\n",
       "    </tr>\n",
       "    <tr>\n",
       "      <th>lat</th>\n",
       "      <td>-0.008649</td>\n",
       "      <td>-0.017755</td>\n",
       "      <td>-0.019077</td>\n",
       "      <td>-0.038278</td>\n",
       "      <td>1.000000</td>\n",
       "      <td>-0.697142</td>\n",
       "      <td>NaN</td>\n",
       "      <td>NaN</td>\n",
       "    </tr>\n",
       "    <tr>\n",
       "      <th>lng</th>\n",
       "      <td>0.021318</td>\n",
       "      <td>0.046669</td>\n",
       "      <td>0.047058</td>\n",
       "      <td>0.054652</td>\n",
       "      <td>-0.697142</td>\n",
       "      <td>1.000000</td>\n",
       "      <td>NaN</td>\n",
       "      <td>NaN</td>\n",
       "    </tr>\n",
       "    <tr>\n",
       "      <th>created_at</th>\n",
       "      <td>NaN</td>\n",
       "      <td>NaN</td>\n",
       "      <td>NaN</td>\n",
       "      <td>NaN</td>\n",
       "      <td>NaN</td>\n",
       "      <td>NaN</td>\n",
       "      <td>NaN</td>\n",
       "      <td>NaN</td>\n",
       "    </tr>\n",
       "    <tr>\n",
       "      <th>updated_at</th>\n",
       "      <td>NaN</td>\n",
       "      <td>NaN</td>\n",
       "      <td>NaN</td>\n",
       "      <td>NaN</td>\n",
       "      <td>NaN</td>\n",
       "      <td>NaN</td>\n",
       "      <td>NaN</td>\n",
       "      <td>NaN</td>\n",
       "    </tr>\n",
       "  </tbody>\n",
       "</table>\n",
       "</div>"
      ],
      "text/plain": [
       "             Trip ID        id  order_id  driver_id       lat       lng  \\\n",
       "Trip ID     1.000000  0.999583  0.999537  -0.050615 -0.008649  0.021318   \n",
       "id          0.999583  1.000000  0.990965   0.026861 -0.017755  0.046669   \n",
       "order_id    0.999537  0.990965  1.000000   0.023262 -0.019077  0.047058   \n",
       "driver_id  -0.050615  0.026861  0.023262   1.000000 -0.038278  0.054652   \n",
       "lat        -0.008649 -0.017755 -0.019077  -0.038278  1.000000 -0.697142   \n",
       "lng         0.021318  0.046669  0.047058   0.054652 -0.697142  1.000000   \n",
       "created_at       NaN       NaN       NaN        NaN       NaN       NaN   \n",
       "updated_at       NaN       NaN       NaN        NaN       NaN       NaN   \n",
       "\n",
       "            created_at  updated_at  \n",
       "Trip ID            NaN         NaN  \n",
       "id                 NaN         NaN  \n",
       "order_id           NaN         NaN  \n",
       "driver_id          NaN         NaN  \n",
       "lat                NaN         NaN  \n",
       "lng                NaN         NaN  \n",
       "created_at         NaN         NaN  \n",
       "updated_at         NaN         NaN  "
      ]
     },
     "execution_count": 47,
     "metadata": {},
     "output_type": "execute_result"
    }
   ],
   "source": [
    "merged_df.corr()"
   ]
  },
  {
   "cell_type": "code",
   "execution_count": null,
   "id": "e2816984-2590-4d19-bf1e-e8a0929475da",
   "metadata": {},
   "outputs": [],
   "source": []
  }
 ],
 "metadata": {
  "kernelspec": {
   "display_name": "Python 3 (ipykernel)",
   "language": "python",
   "name": "python3"
  },
  "language_info": {
   "codemirror_mode": {
    "name": "ipython",
    "version": 3
   },
   "file_extension": ".py",
   "mimetype": "text/x-python",
   "name": "python",
   "nbconvert_exporter": "python",
   "pygments_lexer": "ipython3",
   "version": "3.8.0"
  }
 },
 "nbformat": 4,
 "nbformat_minor": 5
}
